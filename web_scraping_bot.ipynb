{
 "cells": [
  {
   "cell_type": "code",
   "execution_count": 1,
   "metadata": {
    "colab": {
     "base_uri": "https://localhost:8080/"
    },
    "executionInfo": {
     "elapsed": 9729,
     "status": "ok",
     "timestamp": 1723579692976,
     "user": {
      "displayName": "Hamari Marzi",
      "userId": "03792130880660968319"
     },
     "user_tz": -360
    },
    "id": "4VqFBr_SVjHo",
    "outputId": "90663225-599e-4c76-fc05-c5963f01bd54"
   },
   "outputs": [
    {
     "name": "stdout",
     "output_type": "stream",
     "text": [
      "Requirement already satisfied: selenium in c:\\users\\tasnu\\anaconda3\\lib\\site-packages (4.23.1)\n",
      "Requirement already satisfied: websocket-client~=1.8 in c:\\users\\tasnu\\anaconda3\\lib\\site-packages (from selenium) (1.8.0)\n",
      "Requirement already satisfied: trio~=0.17 in c:\\users\\tasnu\\anaconda3\\lib\\site-packages (from selenium) (0.26.2)\n",
      "Requirement already satisfied: typing_extensions~=4.9 in c:\\users\\tasnu\\anaconda3\\lib\\site-packages (from selenium) (4.12.2)\n",
      "Requirement already satisfied: certifi>=2021.10.8 in c:\\users\\tasnu\\anaconda3\\lib\\site-packages (from selenium) (2024.7.4)\n",
      "Requirement already satisfied: trio-websocket~=0.9 in c:\\users\\tasnu\\anaconda3\\lib\\site-packages (from selenium) (0.11.1)\n",
      "Requirement already satisfied: urllib3[socks]<3,>=1.26 in c:\\users\\tasnu\\anaconda3\\lib\\site-packages (from selenium) (1.26.14)\n",
      "Requirement already satisfied: outcome in c:\\users\\tasnu\\anaconda3\\lib\\site-packages (from trio~=0.17->selenium) (1.3.0.post0)\n",
      "Requirement already satisfied: sniffio>=1.3.0 in c:\\users\\tasnu\\anaconda3\\lib\\site-packages (from trio~=0.17->selenium) (1.3.1)\n",
      "Requirement already satisfied: cffi>=1.14 in c:\\users\\tasnu\\anaconda3\\lib\\site-packages (from trio~=0.17->selenium) (1.15.1)\n",
      "Requirement already satisfied: attrs>=23.2.0 in c:\\users\\tasnu\\anaconda3\\lib\\site-packages (from trio~=0.17->selenium) (24.2.0)\n",
      "Requirement already satisfied: idna in c:\\users\\tasnu\\anaconda3\\lib\\site-packages (from trio~=0.17->selenium) (3.4)\n",
      "Requirement already satisfied: sortedcontainers in c:\\users\\tasnu\\anaconda3\\lib\\site-packages (from trio~=0.17->selenium) (2.4.0)\n",
      "Requirement already satisfied: exceptiongroup in c:\\users\\tasnu\\anaconda3\\lib\\site-packages (from trio~=0.17->selenium) (1.2.2)\n",
      "Requirement already satisfied: wsproto>=0.14 in c:\\users\\tasnu\\anaconda3\\lib\\site-packages (from trio-websocket~=0.9->selenium) (1.2.0)\n",
      "Requirement already satisfied: PySocks!=1.5.7,<2.0,>=1.5.6 in c:\\users\\tasnu\\anaconda3\\lib\\site-packages (from urllib3[socks]<3,>=1.26->selenium) (1.7.1)\n",
      "Requirement already satisfied: pycparser in c:\\users\\tasnu\\anaconda3\\lib\\site-packages (from cffi>=1.14->trio~=0.17->selenium) (2.21)\n",
      "Requirement already satisfied: h11<1,>=0.9.0 in c:\\users\\tasnu\\anaconda3\\lib\\site-packages (from wsproto>=0.14->trio-websocket~=0.9->selenium) (0.14.0)\n"
     ]
    }
   ],
   "source": [
    "!pip install selenium"
   ]
  },
  {
   "cell_type": "code",
   "execution_count": 2,
   "metadata": {
    "executionInfo": {
     "elapsed": 583,
     "status": "ok",
     "timestamp": 1723579696340,
     "user": {
      "displayName": "Hamari Marzi",
      "userId": "03792130880660968319"
     },
     "user_tz": -360
    },
    "id": "7RB20xkPVRZQ"
   },
   "outputs": [],
   "source": [
    "from selenium import webdriver\n",
    "from selenium.webdriver.chrome.service import Service\n",
    "from selenium.webdriver.chrome.options import Options\n",
    "from selenium.webdriver.common.by import By\n",
    "from selenium.common.exceptions import NoSuchElementException\n",
    "\n",
    "import csv"
   ]
  },
  {
   "cell_type": "code",
   "execution_count": 3,
   "metadata": {
    "executionInfo": {
     "elapsed": 6,
     "status": "ok",
     "timestamp": 1723579700889,
     "user": {
      "displayName": "Hamari Marzi",
      "userId": "03792130880660968319"
     },
     "user_tz": -360
    },
    "id": "n12FKpk9VRZV"
   },
   "outputs": [],
   "source": [
    "#daraz_url = 'https://www.daraz.com.bd/catalog/?page={page_number}&q={search%20word}'"
   ]
  },
  {
   "cell_type": "code",
   "execution_count": 4,
   "metadata": {
    "colab": {
     "base_uri": "https://localhost:8080/",
     "height": 426
    },
    "executionInfo": {
     "elapsed": 541,
     "status": "error",
     "timestamp": 1723579706905,
     "user": {
      "displayName": "Hamari Marzi",
      "userId": "03792130880660968319"
     },
     "user_tz": -360
    },
    "id": "hsNxZ0nsVRZW",
    "outputId": "d029413a-05bc-4403-9085-fd50cb069bce"
   },
   "outputs": [],
   "source": [
    "path = \"C:\\\\Users\\\\tasnu\\\\Downloads\\\\Web Scraping Daraz\\\\chromedriver.exe\"\n",
    "\n",
    "option = Options()\n",
    "option.add_argument(\"--headless\")\n",
    "service = Service(path)\n",
    "chrome_driver = webdriver.Chrome(service=service, options=option)"
   ]
  },
  {
   "cell_type": "code",
   "execution_count": 5,
   "metadata": {
    "id": "F9n9xOrsVRZX"
   },
   "outputs": [],
   "source": [
    "def get_product_links(search_keyword, page_number, driver):\n",
    "    \n",
    "    search_keyword = search_keyword.replace(' ', '%20')\n",
    "    daraz_url = f'https://www.daraz.com.bd/catalog/?page={page_number}&q={search_keyword}'\n",
    "    driver.get(daraz_url)\n",
    "    elements = driver.find_elements(\"css selector\", 'div._17mcb a[href]')\n",
    "\n",
    "    links = []\n",
    "    for element in elements:\n",
    "        link = element.get_attribute('href')\n",
    "        links.append(link)\n",
    "\n",
    "    for i in range(len(links) - 1, 0, -1):\n",
    "        if i % 2 != 0:\n",
    "            del links[i]\n",
    "    \n",
    "    return links"
   ]
  },
  {
   "cell_type": "code",
   "execution_count": 6,
   "metadata": {},
   "outputs": [],
   "source": [
    "def get_product_details(driver, link):\n",
    "    \n",
    "    driver.get(link)\n",
    "    \n",
    "    try:\n",
    "        product_name = driver.find_element(\"css selector\", 'h1.pdp-mod-product-badge-title').text\n",
    "    except NoSuchElementException:\n",
    "        product_name = None\n",
    "\n",
    "    try:\n",
    "        brand_name = driver.find_element(By.XPATH, '//*[@id=\"module_seller_info\"]/div/div[1]/div[1]/div[2]/a[1]').text\n",
    "    except NoSuchElementException:\n",
    "        brand_name = None\n",
    "\n",
    "    try:\n",
    "        price = driver.find_element(By.XPATH, '//*[@id=\"module_product_price_1\"]/div/div/span').text\n",
    "    except NoSuchElementException:\n",
    "        price = None\n",
    "\n",
    "    try:\n",
    "        seller = driver.find_element(By.XPATH, '//*[@id=\"module_seller_info\"]/div/div[1]/div[1]/div[2]/a[1]').text\n",
    "    except NoSuchElementException:\n",
    "        seller = None\n",
    "\n",
    "    try:\n",
    "        seller_rating = driver.find_element(By.XPATH, '//*[@id=\"module_seller_info\"]/div/div[2]/div[1]/div[2]').text\n",
    "    except NoSuchElementException:\n",
    "        seller_rating = None\n",
    "\n",
    "    try:\n",
    "        seller_shipping = driver.find_element(By.XPATH, '//*[@id=\"module_seller_info\"]/div/div[2]/div[2]/div[2]').text\n",
    "    except NoSuchElementException:\n",
    "        seller_shipping = None\n",
    "\n",
    "    try:\n",
    "        seller_chat = driver.find_element(By.XPATH, '//*[@id=\"module_seller_info\"]/div/div[2]/div[3]/div[2]').text\n",
    "    except NoSuchElementException:\n",
    "        seller_chat = None\n",
    "\n",
    "    try:\n",
    "        rating_number = driver.find_element(By.XPATH, '//*[@id=\"module_product_review_star_1\"]/div/a[1]').text\n",
    "    except NoSuchElementException:\n",
    "        rating_number = None\n",
    "\n",
    "    try:\n",
    "        qna_number = driver.find_element(By.XPATH, '//*[@id=\"module_product_review_star_1\"]/div/a[2]').text\n",
    "    except NoSuchElementException:\n",
    "        qna_number = None\n",
    "\n",
    "    try:\n",
    "        discount = driver.find_element(By.XPATH, '//*[@id=\"module_product_price_1\"]/div/div/div/span[2]').text\n",
    "    except NoSuchElementException:\n",
    "        discount = None\n",
    "\n",
    "    try:\n",
    "        bef_price = driver.find_element(By.XPATH, '//*[@id=\"module_product_price_1\"]/div/div/div/span[1]').text\n",
    "    except NoSuchElementException:\n",
    "        bef_price = None\n",
    "\n",
    "    return {\n",
    "        'product_name': product_name,\n",
    "        'brand_name': brand_name,\n",
    "        'price': price,\n",
    "        'seller': seller,\n",
    "        'seller_rating': seller_rating,\n",
    "        'seller_shipping': seller_shipping,\n",
    "        'seller_chat': seller_chat,\n",
    "        'rating_number': rating_number,\n",
    "        'qna_number': qna_number,\n",
    "        'discount': discount,\n",
    "        'bef_price': bef_price\n",
    "    }"
   ]
  },
  {
   "cell_type": "code",
   "execution_count": 7,
   "metadata": {},
   "outputs": [],
   "source": [
    "def scrape_product_details(links, driver, search_keyword, pages):\n",
    "    all_details = []\n",
    "    \n",
    "    for link in links:\n",
    "        details = get_product_details(driver, link)\n",
    "        all_details.append(details)\n",
    "    \n",
    "    driver.quit()\n",
    "    \n",
    "    search_keyword = search_keyword.replace(' ', '_')\n",
    "    output_file = f\"{search_keyword}_pages_{pages}_daraz_data.csv\"\n",
    "    \n",
    "    keys = all_details[0].keys()\n",
    "    with open(output_file, 'w', newline='', encoding='utf-8') as output_csv:\n",
    "        dict_writer = csv.DictWriter(output_csv, fieldnames=keys)\n",
    "        dict_writer.writeheader()\n",
    "        dict_writer.writerows(all_details)\n",
    "    \n",
    "    print(f\"Data has been saved to {output_file}\")"
   ]
  },
  {
   "cell_type": "code",
   "execution_count": 8,
   "metadata": {},
   "outputs": [
    {
     "name": "stdout",
     "output_type": "stream",
     "text": [
      "Enter the search word: saree\n",
      "Enter the page number: 3\n",
      "Data has been saved to saree_pages_3_daraz_data.csv\n"
     ]
    }
   ],
   "source": [
    "search_keyword = input('Enter the search word: ')\n",
    "page_number = int(input('Enter the page number: '))\n",
    "all_links = get_product_links(search_keyword, page_number, chrome_driver)\n",
    "scrape_product_details(all_links, chrome_driver, search_keyword, page_number)"
   ]
  },
  {
   "cell_type": "code",
   "execution_count": null,
   "metadata": {
    "id": "Q4o_EwR-VRZZ"
   },
   "outputs": [],
   "source": []
  }
 ],
 "metadata": {
  "colab": {
   "provenance": []
  },
  "kernelspec": {
   "display_name": "Python 3 (ipykernel)",
   "language": "python",
   "name": "python3"
  },
  "language_info": {
   "codemirror_mode": {
    "name": "ipython",
    "version": 3
   },
   "file_extension": ".py",
   "mimetype": "text/x-python",
   "name": "python",
   "nbconvert_exporter": "python",
   "pygments_lexer": "ipython3",
   "version": "3.10.9"
  }
 },
 "nbformat": 4,
 "nbformat_minor": 1
}
